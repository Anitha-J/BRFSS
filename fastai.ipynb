{
 "cells": [
  {
   "cell_type": "code",
   "execution_count": 1,
   "metadata": {},
   "outputs": [],
   "source": [
    "%reload_ext autoreload\n",
    "%autoreload 2 \n",
    "%matplotlib inline"
   ]
  },
  {
   "cell_type": "code",
   "execution_count": 2,
   "metadata": {},
   "outputs": [],
   "source": [
    "import numpy as np\n",
    "import pandas as pd\n",
    "from sklearn.model_selection import train_test_split\n",
    "from sklearn.metrics import classification_report, confusion_matrix, roc_auc_score, log_loss, f1_score\n",
    "import matplotlib.pyplot as plt\n",
    "import itertools\n",
    "import time\n",
    "import sys\n",
    "from tqdm import tqdm\n",
    "from fastai import *\n",
    "from fastai.tabular import *\n",
    "import torch\n",
    "import torch.nn as nn\n",
    "from imblearn.over_sampling import SMOTENC\n",
    "import objgraph\n",
    "import gc"
   ]
  },
  {
   "cell_type": "code",
   "execution_count": 3,
   "metadata": {},
   "outputs": [],
   "source": [
    "X_train = pd.read_csv('X_train.csv', dtype = int)\n",
    "X_val = pd.read_csv('X_val.csv', dtype = int)\n",
    "X_test = pd.read_csv('X_test.csv', dtype = int)\n",
    "y_train = pd.read_csv('y_train.csv', dtype = int)\n",
    "y_val = pd.read_csv('y_val.csv', dtype = int)\n",
    "#y_test = pd.read_csv('y_test.csv', dtype = int)"
   ]
  },
  {
   "cell_type": "code",
   "execution_count": null,
   "metadata": {},
   "outputs": [],
   "source": [
    "# smotenc = SMOTENC(random_state=17, categorical_features=np.arange(16), n_jobs = 64)\n",
    "# X_train_resampled, y_train_resampled = smotenc.fit_resample(X_train,np.array(y_train).ravel())"
   ]
  },
  {
   "cell_type": "code",
   "execution_count": null,
   "metadata": {},
   "outputs": [],
   "source": [
    "# X_train_resampled = pd.DataFrame(X_train_resampled, columns=[\"deaf\",\"blind\",\"x.rfhype5\",\"x.rfchol1\",\"x.asthms1\",\"x.drdxar1\",\"x.race\",\"x.age.g\",\"x.bmi5cat\",\"x.chldcnt\",\"x.educag\",\"x.incomg\",\"x.smoker3\",\"x.ecigsts\",\"x.rfdrhv5\",\"x.totinda\",\"tmp\"]).drop('tmp',axis=1)"
   ]
  },
  {
   "cell_type": "code",
   "execution_count": 4,
   "metadata": {},
   "outputs": [],
   "source": [
    "X_train.drop(\"tmp\", axis = 1, inplace = True)\n",
    "X_val.drop(\"tmp\", axis = 1, inplace = True)\n",
    "X_test.drop(\"tmp\", axis = 1, inplace = True)"
   ]
  },
  {
   "cell_type": "code",
   "execution_count": null,
   "metadata": {},
   "outputs": [],
   "source": [
    "# y_train_resampled = pd.DataFrame(y_train_resampled, columns = ['cvdinfr4'])\n",
    "# y_val = pd.DataFrame(y_val, columns = ['cvdinfr4'])\n"
   ]
  },
  {
   "cell_type": "code",
   "execution_count": null,
   "metadata": {},
   "outputs": [],
   "source": [
    "# y_train_resampled[\"cvdinfr4\"].value_counts()"
   ]
  },
  {
   "cell_type": "code",
   "execution_count": 5,
   "metadata": {},
   "outputs": [
    {
     "data": {
      "text/plain": [
       "0    27081\n",
       "1     1780\n",
       "Name: cvdinfr4, dtype: int64"
      ]
     },
     "execution_count": 5,
     "metadata": {},
     "output_type": "execute_result"
    }
   ],
   "source": [
    "y_val[\"cvdinfr4\"].value_counts()"
   ]
  },
  {
   "cell_type": "code",
   "execution_count": 6,
   "metadata": {},
   "outputs": [
    {
     "data": {
      "text/plain": [
       "(28861, 28861)"
      ]
     },
     "execution_count": 6,
     "metadata": {},
     "output_type": "execute_result"
    }
   ],
   "source": [
    "len(X_val), len(y_val)"
   ]
  },
  {
   "cell_type": "code",
   "execution_count": 7,
   "metadata": {},
   "outputs": [],
   "source": [
    "# data_train_val = X_train_resampled.append(X_val, ignore_index = True)\n",
    "# data_train_val['cvdinfr4'] = y_train_resampled.append(y_val, ignore_index = True)\n",
    "# data_train_val = X_train.append(X_val, ignore_index = True)\n",
    "# data_train_val['cvdinfr4'] = y_train.append(y_val, ignore_index = True)\n",
    "\n",
    "data_train = X_train\n",
    "data_train['cvdinfr4'] = y_train\n",
    "\n",
    "data_val = X_val\n",
    "data_val['cvdinfr4'] = y_val\n",
    "\n",
    "data_train_val = data_train.append(data_val, ignore_index = True)"
   ]
  },
  {
   "cell_type": "code",
   "execution_count": 8,
   "metadata": {},
   "outputs": [],
   "source": [
    "classes = [\"No\", \"Yes\"]\n",
    "def plot_confusion_matrix(cm, classes=classes,\n",
    "                          normalize=False,\n",
    "                          title='Confusion matrix',\n",
    "                          cmap=plt.cm.Blues):\n",
    "    \"\"\"\n",
    "    This function prints and plots the confusion matrix.\n",
    "    Normalization can be applied by setting `normalize=True`.\n",
    "    \"\"\"\n",
    "    \n",
    "    print(cm)\n",
    "    if normalize:\n",
    "        cm = cm.astype('float') / cm.sum(axis=1)[:, np.newaxis]\n",
    "\n",
    "\n",
    "    plt.imshow(cm, interpolation='nearest', cmap=cmap)\n",
    "    plt.title(title)\n",
    "    plt.colorbar()\n",
    "    tick_marks = np.arange(len(classes))\n",
    "    plt.xticks(tick_marks, classes, rotation=45)\n",
    "    plt.yticks(tick_marks, classes)\n",
    "\n",
    "    fmt = '.2f' if normalize else 'd'\n",
    "    thresh = cm.max() / 2.\n",
    "    for i, j in itertools.product(range(cm.shape[0]), range(cm.shape[1])):\n",
    "        plt.text(j, i, format(cm[i, j], fmt),\n",
    "                 horizontalalignment=\"center\",\n",
    "                 color=\"white\" if cm[i, j] > thresh else \"black\")\n",
    "\n",
    "    plt.ylabel('True label')\n",
    "    plt.xlabel('Predicted label')\n",
    "    plt.tight_layout()"
   ]
  },
  {
   "cell_type": "code",
   "execution_count": 12,
   "metadata": {},
   "outputs": [],
   "source": [
    "procs = [Categorify, Normalize]\n",
    "cat_names = [\"deaf\",\"blind\",\"x.rfhype5\",\"x.rfchol1\",\"x.asthms1\",\"x.drdxar1\",\"x.race\",\"x.age.g\",\"x.bmi5cat\",\"x.chldcnt\",\"x.educag\",\"x.incomg\",\"x.smoker3\",\"x.ecigsts\",\"x.rfdrhv5\",\"x.totinda\"]"
   ]
  },
  {
   "cell_type": "code",
   "execution_count": 13,
   "metadata": {},
   "outputs": [],
   "source": [
    "test = TabularList.from_df(X_test, path= '.', cat_names=cat_names, procs = procs)"
   ]
  },
  {
   "cell_type": "code",
   "execution_count": 14,
   "metadata": {},
   "outputs": [],
   "source": [
    "d_l = (TabularList.from_df(data_train_val, path = \".\", cat_names = cat_names, procs = procs)\n",
    "                        .split_by_idx(valid_idx = range(len(data_train) + 1, len(data_train_val)))\n",
    "                        .label_from_df(cols = 'cvdinfr4')\n",
    "                        .add_test(test)\n",
    "                        .databunch(bs = 2048))"
   ]
  },
  {
   "cell_type": "code",
   "execution_count": 18,
   "metadata": {},
   "outputs": [],
   "source": [
    "learn = tabular_learner(d_l, [200, 100], metrics = accuracy)"
   ]
  },
  {
   "cell_type": "code",
   "execution_count": 19,
   "metadata": {},
   "outputs": [],
   "source": [
    "weight = torch.FloatTensor([1, 15.23526512217449]).cuda() #15.23526512217449\n",
    "learn.loss_func = nn.CrossEntropyLoss(weight = weight)"
   ]
  },
  {
   "cell_type": "code",
   "execution_count": 20,
   "metadata": {},
   "outputs": [
    {
     "name": "stdout",
     "output_type": "stream",
     "text": [
      "LR Finder is complete, type {learner_name}.recorder.plot() to see the graph.\n"
     ]
    },
    {
     "data": {
      "image/png": "[encoded data removed]",
      "text/plain": [
       "<Figure size 432x288 with 1 Axes>"
      ]
     },
     "metadata": {
      "needs_background": "light"
     },
     "output_type": "display_data"
    }
   ],
   "source": [
    "learn.lr_find()\n",
    "learn.recorder.plot()"
   ]
  },
  {
   "cell_type": "code",
   "execution_count": 21,
   "metadata": {},
   "outputs": [
    {
     "data": {
      "text/html": [
       "Total time: 00:17 <p><table style='width:300px; margin-bottom:10px'>\n",
       "  <tr>\n",
       "    <th>epoch</th>\n",
       "    <th>train_loss</th>\n",
       "    <th>valid_loss</th>\n",
       "    <th>accuracy</th>\n",
       "  </tr>\n",
       "  <tr>\n",
       "    <th>1</th>\n",
       "    <th>0.582971</th>\n",
       "    <th>0.549452</th>\n",
       "    <th>0.605371</th>\n",
       "  </tr>\n",
       "  <tr>\n",
       "    <th>2</th>\n",
       "    <th>0.545490</th>\n",
       "    <th>0.532749</th>\n",
       "    <th>0.643209</th>\n",
       "  </tr>\n",
       "  <tr>\n",
       "    <th>3</th>\n",
       "    <th>0.533516</th>\n",
       "    <th>0.530265</th>\n",
       "    <th>0.666875</th>\n",
       "  </tr>\n",
       "  <tr>\n",
       "    <th>4</th>\n",
       "    <th>0.528620</th>\n",
       "    <th>0.528539</th>\n",
       "    <th>0.656341</th>\n",
       "  </tr>\n",
       "  <tr>\n",
       "    <th>5</th>\n",
       "    <th>0.528401</th>\n",
       "    <th>0.527915</th>\n",
       "    <th>0.665696</th>\n",
       "  </tr>\n",
       "</table>\n"
      ],
      "text/plain": [
       "<IPython.core.display.HTML object>"
      ]
     },
     "metadata": {},
     "output_type": "display_data"
    }
   ],
   "source": [
    "learn.fit_one_cycle(5, slice(5e-04))"
   ]
  },
  {
   "cell_type": "code",
   "execution_count": 22,
   "metadata": {},
   "outputs": [],
   "source": [
    "preds, _ = learn.get_preds(DatasetType.Test)"
   ]
  },
  {
   "cell_type": "code",
   "execution_count": 23,
   "metadata": {},
   "outputs": [],
   "source": [
    "y_pred = np.array(preds).argmax(1)"
   ]
  },
  {
   "cell_type": "code",
   "execution_count": 24,
   "metadata": {},
   "outputs": [
    {
     "name": "stdout",
     "output_type": "stream",
     "text": [
      "[[17886  9194]\n",
      " [  356  1424]]\n",
      "              precision    recall  f1-score   support\n",
      "\n",
      "          No       0.98      0.66      0.79     27080\n",
      "         Yes       0.13      0.80      0.23      1780\n",
      "\n",
      "   micro avg       0.67      0.67      0.67     28860\n",
      "   macro avg       0.56      0.73      0.51     28860\n",
      "weighted avg       0.93      0.67      0.75     28860\n",
      "\n"
     ]
    },
    {
     "data": {
      "image/png": "[encoded data removed]",
      "text/plain": [
       "<Figure size 432x288 with 2 Axes>"
      ]
     },
     "metadata": {
      "needs_background": "light"
     },
     "output_type": "display_data"
    }
   ],
   "source": [
    "plt.figure()\n",
    "y_test = pd.read_csv('y_test.csv', dtype = int)\n",
    "plot_confusion_matrix(confusion_matrix(y_test, y_pred), normalize = True)\n",
    "print(classification_report(y_test, y_pred, target_names=classes))"
   ]
  },
  {
   "cell_type": "code",
   "execution_count": 25,
   "metadata": {},
   "outputs": [
    {
     "name": "stdout",
     "output_type": "stream",
     "text": [
      "LR Finder is complete, type {learner_name}.recorder.plot() to see the graph.\n"
     ]
    },
    {
     "data": {
      "image/png": "[encoded data removed]",
      "text/plain": [
       "<Figure size 432x288 with 1 Axes>"
      ]
     },
     "metadata": {
      "needs_background": "light"
     },
     "output_type": "display_data"
    }
   ],
   "source": [
    "learn.lr_find()\n",
    "learn.recorder.plot()"
   ]
  },
  {
   "cell_type": "code",
   "execution_count": 26,
   "metadata": {},
   "outputs": [
    {
     "data": {
      "text/html": [
       "Total time: 00:16 <p><table style='width:300px; margin-bottom:10px'>\n",
       "  <tr>\n",
       "    <th>epoch</th>\n",
       "    <th>train_loss</th>\n",
       "    <th>valid_loss</th>\n",
       "    <th>accuracy</th>\n",
       "  </tr>\n",
       "  <tr>\n",
       "    <th>1</th>\n",
       "    <th>0.526576</th>\n",
       "    <th>0.527915</th>\n",
       "    <th>0.674705</th>\n",
       "  </tr>\n",
       "  <tr>\n",
       "    <th>2</th>\n",
       "    <th>0.528436</th>\n",
       "    <th>0.528694</th>\n",
       "    <th>0.670132</th>\n",
       "  </tr>\n",
       "  <tr>\n",
       "    <th>3</th>\n",
       "    <th>0.528141</th>\n",
       "    <th>0.529236</th>\n",
       "    <th>0.677408</th>\n",
       "  </tr>\n",
       "  <tr>\n",
       "    <th>4</th>\n",
       "    <th>0.525554</th>\n",
       "    <th>0.528648</th>\n",
       "    <th>0.667325</th>\n",
       "  </tr>\n",
       "  <tr>\n",
       "    <th>5</th>\n",
       "    <th>0.525031</th>\n",
       "    <th>0.528613</th>\n",
       "    <th>0.663479</th>\n",
       "  </tr>\n",
       "</table>\n"
      ],
      "text/plain": [
       "<IPython.core.display.HTML object>"
      ]
     },
     "metadata": {},
     "output_type": "display_data"
    }
   ],
   "source": [
    "learn.fit_one_cycle(5, slice(1e-04))"
   ]
  },
  {
   "cell_type": "code",
   "execution_count": 27,
   "metadata": {},
   "outputs": [
    {
     "name": "stdout",
     "output_type": "stream",
     "text": [
      "[[17773  9307]\n",
      " [  354  1426]]\n",
      "              precision    recall  f1-score   support\n",
      "\n",
      "          No       0.98      0.66      0.79     27080\n",
      "         Yes       0.13      0.80      0.23      1780\n",
      "\n",
      "   micro avg       0.67      0.67      0.67     28860\n",
      "   macro avg       0.56      0.73      0.51     28860\n",
      "weighted avg       0.93      0.67      0.75     28860\n",
      "\n"
     ]
    },
    {
     "data": {
      "image/png": "[encoded data removed]",
      "text/plain": [
       "<Figure size 432x288 with 2 Axes>"
      ]
     },
     "metadata": {
      "needs_background": "light"
     },
     "output_type": "display_data"
    }
   ],
   "source": [
    "preds, _ = learn.get_preds(DatasetType.Test)\n",
    "y_pred = np.array(preds).argmax(1)\n",
    "plt.figure()\n",
    "plot_confusion_matrix(confusion_matrix(y_test, y_pred), normalize = True)\n",
    "print(classification_report(y_test, y_pred, target_names=classes))"
   ]
  }
 ],
 "metadata": {
  "kernelspec": {
   "display_name": "Python 3",
   "language": "python",
   "name": "python3"
  },
  "language_info": {
   "codemirror_mode": {
    "name": "ipython",
    "version": 3
   },
   "file_extension": ".py",
   "mimetype": "text/x-python",
   "name": "python",
   "nbconvert_exporter": "python",
   "pygments_lexer": "ipython3",
   "version": "3.7.1"
  }
 },
 "nbformat": 4,
 "nbformat_minor": 2
}
