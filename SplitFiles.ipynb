{
 "cells": [
  {
   "cell_type": "code",
   "execution_count": 1,
   "metadata": {},
   "outputs": [],
   "source": [
    "%reload_ext autoreload\n",
    "%autoreload 2 \n",
    "%matplotlib inline"
   ]
  },
  {
   "cell_type": "code",
   "execution_count": 2,
   "metadata": {},
   "outputs": [],
   "source": [
    "import numpy as np\n",
    "import pandas as pd\n",
    "from sklearn.model_selection import train_test_split\n",
    "from sklearn.metrics import classification_report, confusion_matrix, roc_auc_score, log_loss, f1_score\n",
    "import matplotlib.pyplot as plt\n",
    "import itertools\n",
    "import time\n",
    "import sys\n",
    "from tqdm import tqdm\n",
    "from fastai import *\n",
    "from fastai.tabular import *\n",
    "import torch\n",
    "import torch.nn as nn\n",
    "from imblearn.over_sampling import SMOTENC\n",
    "import objgraph\n",
    "import gc"
   ]
  },
  {
   "cell_type": "code",
   "execution_count": 3,
   "metadata": {},
   "outputs": [
    {
     "name": "stderr",
     "output_type": "stream",
     "text": [
      "/opt/anaconda3/lib/python3.7/site-packages/IPython/core/interactiveshell.py:3020: DtypeWarning: Columns (171) have mixed types. Specify dtype option on import or set low_memory=False.\n",
      "  interactivity=interactivity, compiler=compiler, result=result)\n"
     ]
    }
   ],
   "source": [
    "data = pd.read_csv(\"data/brfss2017.csv\")\n",
    "features_selected = [\"cvdinfr4\",\"deaf\",\"blind\",\"x.rfhype5\",\"x.rfchol1\",\"x.asthms1\",\"x.drdxar1\",\"x.race\",\"x.age.g\",\"x.bmi5cat\",\"x.chldcnt\",\"x.educag\",\"x.incomg\",\"x.smoker3\",\"x.ecigsts\",\"x.rfdrhv5\",\"x.totinda\"]\n",
    "features_7_9_nan = [\"cvdinfr4\",\"deaf\",\"blind\"]\n",
    "features_9_nan = [\"x.rfhype5\",\"x.asthms1\",\"x.race\",\"x.chldcnt\",\"x.educag\",\"x.incomg\",\"x.smoker3\",\"x.ecigsts\",\"x.rfdrhv5\",\"x.totinda\"]\n",
    "\n",
    "data = data.loc[:,features_selected]\n",
    "data[features_7_9_nan] = data[features_7_9_nan].replace({7:np.nan, 9:np.nan, 7.0:np.nan, 9.0:np.nan})\n",
    "data[features_9_nan] = data[features_9_nan].replace({9:np.nan,9.0:np.nan})\n",
    "\n",
    "data = data.dropna().astype(int)"
   ]
  },
  {
   "cell_type": "code",
   "execution_count": 4,
   "metadata": {},
   "outputs": [],
   "source": [
    "data[\"cvdinfr4\"] = data[\"cvdinfr4\"].replace({2:0})"
   ]
  },
  {
   "cell_type": "code",
   "execution_count": 5,
   "metadata": {},
   "outputs": [
    {
     "data": {
      "text/plain": [
       "0    270802\n",
       "1     17800\n",
       "Name: cvdinfr4, dtype: int64"
      ]
     },
     "execution_count": 5,
     "metadata": {},
     "output_type": "execute_result"
    }
   ],
   "source": [
    "data[\"cvdinfr4\"].value_counts()"
   ]
  },
  {
   "cell_type": "code",
   "execution_count": 6,
   "metadata": {},
   "outputs": [],
   "source": [
    "data['tmp'] = 1"
   ]
  },
  {
   "cell_type": "code",
   "execution_count": 7,
   "metadata": {},
   "outputs": [],
   "source": [
    "X = data.loc[:,data.columns!=\"cvdinfr4\"]\n",
    "y = data.loc[:,\"cvdinfr4\"]"
   ]
  },
  {
   "cell_type": "code",
   "execution_count": 8,
   "metadata": {},
   "outputs": [],
   "source": [
    "X_train, X_test, y_train, y_test = train_test_split(X, y, test_size= 0.2, random_state=17, stratify = y)\n",
    "X_test, X_val, y_test, y_val = train_test_split(X_test, y_test, test_size= 0.5, random_state=17, stratify = y_test)"
   ]
  },
  {
   "cell_type": "code",
   "execution_count": 9,
   "metadata": {},
   "outputs": [],
   "source": [
    "cols = [\"deaf\",\"blind\",\"x.rfhype5\",\"x.rfchol1\",\"x.asthms1\",\"x.drdxar1\",\"x.race\",\"x.age.g\",\"x.bmi5cat\",\"x.chldcnt\",\"x.educag\",\"x.incomg\",\"x.smoker3\",\"x.ecigsts\",\"x.rfdrhv5\",\"x.totinda\",\"tmp\"]\n",
    "\n",
    "pd.DataFrame(X_train, columns = cols).to_csv('X_train.csv', index = False)\n",
    "pd.DataFrame(y_train, columns = [\"cvdinfr4\"]).to_csv('y_train.csv', index = False)\n",
    "pd.DataFrame(X_test, columns= cols).to_csv('X_test.csv', index = False)\n",
    "pd.DataFrame(X_val, columns= cols).to_csv('X_val.csv', index = False)\n",
    "pd.DataFrame(y_test, columns=[\"cvdinfr4\"]).to_csv('y_test.csv', index = False)\n",
    "pd.DataFrame(y_val, columns=[\"cvdinfr4\"]).to_csv('y_val.csv', index = False)"
   ]
  }
 ],
 "metadata": {
  "kernelspec": {
   "display_name": "Python 3",
   "language": "python",
   "name": "python3"
  },
  "language_info": {
   "codemirror_mode": {
    "name": "ipython",
    "version": 3
   },
   "file_extension": ".py",
   "mimetype": "text/x-python",
   "name": "python",
   "nbconvert_exporter": "python",
   "pygments_lexer": "ipython3",
   "version": "3.7.1"
  }
 },
 "nbformat": 4,
 "nbformat_minor": 2
}
